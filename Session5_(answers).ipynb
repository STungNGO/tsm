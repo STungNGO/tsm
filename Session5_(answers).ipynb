{
  "nbformat": 4,
  "nbformat_minor": 0,
  "metadata": {
    "kernelspec": {
      "display_name": "Python 3",
      "language": "python",
      "name": "python3"
    },
    "language_info": {
      "codemirror_mode": {
        "name": "ipython",
        "version": 3
      },
      "file_extension": ".py",
      "mimetype": "text/x-python",
      "name": "python",
      "nbconvert_exporter": "python",
      "pygments_lexer": "ipython3",
      "version": "3.8.6"
    },
    "colab": {
      "name": "Session5 (answers).ipynb",
      "provenance": [],
      "collapsed_sections": [],
      "include_colab_link": true
    }
  },
  "cells": [
    {
      "cell_type": "markdown",
      "metadata": {
        "id": "view-in-github",
        "colab_type": "text"
      },
      "source": [
        "<a href=\"https://colab.research.google.com/github/STungNGO/tsm/blob/main/Session5_(answers).ipynb\" target=\"_parent\"><img src=\"https://colab.research.google.com/assets/colab-badge.svg\" alt=\"Open In Colab\"/></a>"
      ]
    },
    {
      "cell_type": "markdown",
      "metadata": {
        "id": "Zklg8c2_yiZC"
      },
      "source": [
        "# FinTech: Practical session 5\n",
        "\n",
        "\n",
        "---\n",
        "\n",
        "\n",
        "**Author:** Christophe Bisière (christophe.bisiere@tsm-education.fr)\n",
        "\n",
        "**Version:** 2022-02-10\n",
        "\n",
        "\n",
        "---\n",
        "\n",
        "During this session, you will work on Lending Club data (Q4 2018).\n",
        "\n",
        "The data dictionary is available here:\n",
        "https://www.kaggle.com/jonchan2003/lending-club-data-dictionary\n",
        "\n"
      ]
    },
    {
      "cell_type": "code",
      "metadata": {
        "id": "sEA7sovR0OhS"
      },
      "source": [
        "# mount my Google Drive on the VM\n",
        "\n",
        "from google.colab import drive\n",
        "drive.mount('/gdrive')"
      ],
      "execution_count": null,
      "outputs": []
    },
    {
      "cell_type": "code",
      "metadata": {
        "id": "rqOkMVlnyiZH"
      },
      "source": [
        "#\n",
        "# Setup\n",
        "#\n",
        "\n",
        "import os\n",
        "from pathlib import Path\n",
        "import numpy as np\n",
        "import pandas as pd\n",
        "\n",
        "import matplotlib.pyplot as plt\n",
        "import matplotlib.ticker as mtick\n",
        "\n",
        "# normalize figure size\n",
        "plt.rcParams['figure.figsize'] = (10.0, 6.0)\n",
        "\n",
        "# always show all the columns of a dataframe\n",
        "pd.set_option('display.max_columns', None)"
      ],
      "execution_count": null,
      "outputs": []
    },
    {
      "cell_type": "code",
      "metadata": {
        "id": "Q7Umnc3ayiZJ"
      },
      "source": [
        "#\n",
        "# Read the csv file containing Lending Club data, Q4 2018\n",
        "#\n",
        "\n",
        "DIR_DATA = \"/gdrive/MyDrive/Classroom/UE08 FinTech M2 Finance FIT 2021-2022/data\"\n",
        "\n",
        "filename = os.path.join(DIR_DATA, 'LoanStats_2018Q4.csv')\n",
        "\n",
        "# columns of interest\n",
        "usecols = [\n",
        "  'loan_amnt',\n",
        "  '#DIV/0!',\n",
        "  'int_rate',\n",
        "  'grade',\n",
        "  'sub_grade',\n",
        "  'home_ownership',\n",
        "  'annual_inc',\n",
        "  'tot_cur_bal',\n",
        "  'delinq_2yrs',\n",
        "  'title'\n",
        "]\n",
        "\n",
        "# read the file: column names are in the second row\n",
        "df = pd.read_csv(filename, skiprows=1, usecols=usecols, skipfooter=4, \n",
        "                 engine='python', nrows=None)\n",
        "\n",
        "display(df.dtypes)\n",
        "df"
      ],
      "execution_count": null,
      "outputs": []
    },
    {
      "cell_type": "code",
      "metadata": {
        "id": "Ll_sSqzSyiZK"
      },
      "source": [
        "#\n",
        "# prepare data\n",
        "#\n",
        "\n",
        "# fix column name\n",
        "df.rename(columns={'#DIV/0!':'duration_months'}, inplace=True)\n",
        "\n",
        "# filter out empty rows\n",
        "df.dropna(how='all', inplace=True)\n",
        "\n",
        "# extract interest rate using a regexp\n",
        "df['rate'] = df['int_rate'].str.extract('([0-9]+\\.[0-9]+)\\%').astype(float)\n",
        "\n",
        "df"
      ],
      "execution_count": null,
      "outputs": []
    },
    {
      "cell_type": "markdown",
      "metadata": {
        "id": "JsLtnq4Z16YQ"
      },
      "source": [
        "## 1)​ Use the data profiling tool pandas-profiling to conduct an exploratory data analysis\n",
        "\n",
        "https://github.com/pandas-profiling/pandas-profiling\n"
      ]
    },
    {
      "cell_type": "code",
      "metadata": {
        "id": "vNVULfLX3O2p"
      },
      "source": [
        "import sys\n",
        "!{sys.executable} -m pip install -U pandas-profiling\n",
        "!jupyter nbextension enable --py widgetsnbextension"
      ],
      "execution_count": null,
      "outputs": []
    },
    {
      "cell_type": "code",
      "metadata": {
        "id": "SvFnkmQRyiZK"
      },
      "source": [
        "#\n",
        "# data exploration\n",
        "#\n",
        "\n",
        "from pandas_profiling import ProfileReport\n",
        "profile = ProfileReport(df, title='Lending Club data (Q4 2018): Profiling Report', \n",
        "                        html={'style':{'full_width':True}})\n",
        "#profile.to_notebook_iframe()\n",
        "profile.to_file(output_file=os.path.join(DIR_DATA, 'lending_club_data_profile.html'))"
      ],
      "execution_count": null,
      "outputs": []
    },
    {
      "cell_type": "markdown",
      "metadata": {
        "id": "V8Kb9I-o4O-O"
      },
      "source": [
        "## 2)​ ​ Compute the following statistics:\n",
        "\n",
        "* Average loan size (USD)\n",
        "* Average maturity (months)\n",
        "* Average interest rate (%)\n",
        "* Average income borrower (USD)\n",
        "* Average total loan balance borrower (USD)\n",
        "* Average number of delinquencies in the past 2 years\n",
        "* Home ownership types in % \n",
        "* Loan motives in %\n"
      ]
    },
    {
      "cell_type": "code",
      "metadata": {
        "id": "UnMsHRlSyiZL"
      },
      "source": [
        "#\n",
        "# requested stats\n",
        "#\n",
        "\n",
        "print(\"• Average loan size ($): {:,.0f}\".format(df['loan_amnt'].mean()))\n",
        "print(\"• Average maturity (months): {:.2f}\".format(df['duration_months'].mean()))\n",
        "print(\"• Average interest rate (%): {:.2f}\".format(df['rate'].mean()))\n",
        "print(\"• Average income borrower ($): {:,.0f}\".format(df['annual_inc'].mean()))\n",
        "print(\"• Average total loan balance borrower ($): {:,.0f}\".format(df['tot_cur_bal'].mean()))\n",
        "print(\"• Average number of delinquencies in the past 2 years: {:.2f}\".format(df['delinq_2yrs'].mean()))\n",
        "print(\"• Home ownership types in %:\")\n",
        "print(df['home_ownership'].value_counts(normalize=True)*100)\n",
        "print(\"• Loan motives in %:\")\n",
        "print(df['title'].value_counts(normalize=True)*100)"
      ],
      "execution_count": null,
      "outputs": []
    },
    {
      "cell_type": "markdown",
      "metadata": {
        "id": "RySlNnoo4T-1"
      },
      "source": [
        "## 3) Propose and comment any statistics or graph you find interesting"
      ]
    },
    {
      "cell_type": "code",
      "metadata": {
        "id": "pebpzf8YyiZL"
      },
      "source": [
        "#\n",
        "# Grades\n",
        "#\n",
        "\n",
        "plt.title(\"Grades on loan applications\\n(Lending Club, Q4 2018)\")\n",
        "\n",
        "ax = df['grade'].value_counts(normalize=True).plot.bar(rot=0)\n",
        "ax.grid(axis='y')\n",
        "ax.set_xlabel('Grade')\n",
        "ax.set_ylabel('Frequency')\n",
        "ax.yaxis.set_major_formatter(mtick.PercentFormatter(xmax=1.0,decimals=0));"
      ],
      "execution_count": null,
      "outputs": []
    },
    {
      "cell_type": "code",
      "metadata": {
        "id": "soZOHvhQyiZL"
      },
      "source": [
        "#\n",
        "# Delinquencies\n",
        "#\n",
        "\n",
        "plt.title(\"Delinquencies in the past 2 years on loan applications\\n(Lending Club, Q4 2018)\")\n",
        "\n",
        "ax = df['delinq_2yrs'].value_counts(normalize=True).plot.bar(rot=0)\n",
        "ax.grid(axis='y')\n",
        "ax.set_xlabel('Number of delinquencies in the past 2 years')\n",
        "ax.xaxis.set_major_formatter(mtick.FormatStrFormatter('%.0f'))\n",
        "ax.set_ylabel('Frequency')\n",
        "ax.yaxis.set_major_formatter(mtick.PercentFormatter(xmax=1.0,decimals=0));"
      ],
      "execution_count": null,
      "outputs": []
    },
    {
      "cell_type": "code",
      "metadata": {
        "id": "6tiJNA5FyiZM"
      },
      "source": [
        "#\n",
        "# Average interest rate by number of delinquencies in the past 2 years\n",
        "#\n",
        "\n",
        "ax = df.groupby('delinq_2yrs').agg({'rate': 'mean'}).plot.bar(rot=0)\n",
        "ax.grid(axis='y')\n",
        "ax.set_xlabel('Number of delinquencies in the past 2 years')\n",
        "ax.xaxis.set_major_formatter(mtick.FormatStrFormatter('%.0f'))\n",
        "ax.set_ylabel('Rate of interest')\n",
        "ax.yaxis.set_major_formatter(mtick.PercentFormatter(decimals=1));"
      ],
      "execution_count": null,
      "outputs": []
    },
    {
      "cell_type": "code",
      "metadata": {
        "id": "YWb2Qdf_yiZN"
      },
      "source": [
        ""
      ],
      "execution_count": null,
      "outputs": []
    }
  ]
}